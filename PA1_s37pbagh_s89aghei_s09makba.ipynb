{
  "nbformat": 4,
  "nbformat_minor": 0,
  "metadata": {
    "colab": {
      "provenance": []
    },
    "kernelspec": {
      "name": "python3",
      "display_name": "Python 3"
    },
    "language_info": {
      "name": "python"
    }
  },
  "cells": [
    {
      "cell_type": "markdown",
      "source": [
        "Importing needed library"
      ],
      "metadata": {
        "id": "pHStgBMRVxFj"
      }
    },
    {
      "cell_type": "code",
      "execution_count": 1,
      "metadata": {
        "id": "O58RCW-TVrLQ"
      },
      "outputs": [],
      "source": [
        "import random"
      ]
    },
    {
      "cell_type": "markdown",
      "source": [
        "This function is responsible for initializing the first row of the cells with the 2 modes."
      ],
      "metadata": {
        "id": "9lLIjV87V5MH"
      }
    },
    {
      "cell_type": "code",
      "source": [
        "def initialize_cells(mode,radius):\n",
        "    cells = [0 for _ in range(84)]\n",
        "    if mode == 'S':\n",
        "        cells[42] = 1\n",
        "    elif mode == 'R':\n",
        "        for i in range(radius,84-radius):\n",
        "            cells[i] = random.choice([0,1])\n",
        "    return cells"
      ],
      "metadata": {
        "id": "4zn5XpKnV1Yz"
      },
      "execution_count": 2,
      "outputs": []
    },
    {
      "cell_type": "markdown",
      "source": [
        "This function converts a number to a list representing the number in binary."
      ],
      "metadata": {
        "id": "-dc120BuWETO"
      }
    },
    {
      "cell_type": "code",
      "source": [
        "def convert_bin(num):\n",
        "    return [int(bit) for bit in bin(num)[2:]]\n"
      ],
      "metadata": {
        "id": "TxCbpLJNWE8K"
      },
      "execution_count": 3,
      "outputs": []
    },
    {
      "cell_type": "markdown",
      "source": [
        "this function takes a list of 5 or 3 cells of neighbors and a rule number and returns a bit output based on that."
      ],
      "metadata": {
        "id": "sOW-sstSWVL8"
      }
    },
    {
      "cell_type": "code",
      "source": [
        "def apply_rule(cells, rule_number):\n",
        "    index=int(''.join(str(i) for i in cells), 2)\n",
        "    d=len(cells)\n",
        "    rule_bin_temp = convert_bin(rule_number)\n",
        "    rule_bin = ([0]*((2**d) - len(rule_bin_temp)))+rule_bin_temp\n",
        "    new_cell = rule_bin[-(index+1)]\n",
        "    return new_cell\n",
        ""
      ],
      "metadata": {
        "id": "DZKT0FlHWVim"
      },
      "execution_count": 4,
      "outputs": []
    },
    {
      "cell_type": "markdown",
      "source": [
        "this function moves on a row and produces the next row by applying the rule multiple times."
      ],
      "metadata": {
        "id": "3K3W10yVW3iH"
      }
    },
    {
      "cell_type": "code",
      "source": [
        "def apply_rules_row(cells, rule_number, radius):\n",
        "    new_cells  = [0 for _ in range(84)]\n",
        "    for i in range(radius, 84 - radius):\n",
        "        neighborhood = cells[i-radius:i+radius+1]\n",
        "        new_cells[i] = apply_rule(neighborhood, rule_number)\n",
        "    return new_cells\n"
      ],
      "metadata": {
        "id": "9pQP_TlVW3xf"
      },
      "execution_count": 5,
      "outputs": []
    },
    {
      "cell_type": "markdown",
      "source": [
        "Prints the whole given row"
      ],
      "metadata": {
        "id": "uLkYVYDsXILv"
      }
    },
    {
      "cell_type": "code",
      "source": [
        "def print_cells(cells):\n",
        "    print(''.join(str(cell) for cell in cells))"
      ],
      "metadata": {
        "id": "cL3Q27grXHwr"
      },
      "execution_count": 6,
      "outputs": []
    },
    {
      "cell_type": "markdown",
      "source": [
        "Taking the inputs from the user"
      ],
      "metadata": {
        "id": "6rYqS6hxXQAz"
      }
    },
    {
      "cell_type": "code",
      "source": [
        "radius = int(input(\"Enter the neighborhood radius (1 or 2)(r): \"))\n",
        "rule_number = int(input(\"Enter the rule in Wolfram Notation (CA): \"))\n",
        "start_condition = input(\"Enter starting condition (S for seed, R for random): \")\n",
        ""
      ],
      "metadata": {
        "colab": {
          "base_uri": "https://localhost:8080/"
        },
        "id": "mVop82v0XQWs",
        "outputId": "77da594d-a9d8-4251-e2c6-c41a4f8e53cb"
      },
      "execution_count": 7,
      "outputs": [
        {
          "name": "stdout",
          "output_type": "stream",
          "text": [
            "Enter the neighborhood radius (1 or 2)(r): 1\n",
            "Enter the rule in Wolfram Notation (CA): 90\n",
            "Enter starting condition (S for seed, R for random): S\n"
          ]
        }
      ]
    },
    {
      "cell_type": "markdown",
      "source": [
        "Initializing the first row based on the chosen mode."
      ],
      "metadata": {
        "id": "k7gdX8ycXd0n"
      }
    },
    {
      "cell_type": "code",
      "source": [
        "cells = initialize_cells(start_condition,radius)\n"
      ],
      "metadata": {
        "id": "0z0DI3XJXZXe"
      },
      "execution_count": 8,
      "outputs": []
    },
    {
      "cell_type": "markdown",
      "source": [
        "Printing the first row and generating the next 20 rows of the pattern."
      ],
      "metadata": {
        "id": "VZJKiT0IXZBm"
      }
    },
    {
      "cell_type": "code",
      "source": [
        "print_cells(cells)\n",
        "iter_number=20\n",
        "for _ in range(iter_number):\n",
        "    cells = apply_rules_row(cells, rule_number, radius)\n",
        "    print_cells(cells)\n",
        "\n"
      ],
      "metadata": {
        "colab": {
          "base_uri": "https://localhost:8080/"
        },
        "id": "nOzqxSfnXrpR",
        "outputId": "9b247296-da41-4c07-9675-92cd015402a4"
      },
      "execution_count": 9,
      "outputs": [
        {
          "output_type": "stream",
          "name": "stdout",
          "text": [
            "000000000000000000000000000000000000000000100000000000000000000000000000000000000000\n",
            "000000000000000000000000000000000000000001010000000000000000000000000000000000000000\n",
            "000000000000000000000000000000000000000010001000000000000000000000000000000000000000\n",
            "000000000000000000000000000000000000000101010100000000000000000000000000000000000000\n",
            "000000000000000000000000000000000000001000000010000000000000000000000000000000000000\n",
            "000000000000000000000000000000000000010100000101000000000000000000000000000000000000\n",
            "000000000000000000000000000000000000100010001000100000000000000000000000000000000000\n",
            "000000000000000000000000000000000001010101010101010000000000000000000000000000000000\n",
            "000000000000000000000000000000000010000000000000001000000000000000000000000000000000\n",
            "000000000000000000000000000000000101000000000000010100000000000000000000000000000000\n",
            "000000000000000000000000000000001000100000000000100010000000000000000000000000000000\n",
            "000000000000000000000000000000010101010000000001010101000000000000000000000000000000\n",
            "000000000000000000000000000000100000001000000010000000100000000000000000000000000000\n",
            "000000000000000000000000000001010000010100000101000001010000000000000000000000000000\n",
            "000000000000000000000000000010001000100010001000100010001000000000000000000000000000\n",
            "000000000000000000000000000101010101010101010101010101010100000000000000000000000000\n",
            "000000000000000000000000001000000000000000000000000000000010000000000000000000000000\n",
            "000000000000000000000000010100000000000000000000000000000101000000000000000000000000\n",
            "000000000000000000000000100010000000000000000000000000001000100000000000000000000000\n",
            "000000000000000000000001010101000000000000000000000000010101010000000000000000000000\n",
            "000000000000000000000010000000100000000000000000000000100000001000000000000000000000\n"
          ]
        }
      ]
    }
  ]
}